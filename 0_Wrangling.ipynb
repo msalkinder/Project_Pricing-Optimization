{
 "cells": [
  {
   "cell_type": "code",
   "execution_count": 9,
   "metadata": {},
   "outputs": [],
   "source": [
    "%matplotlib inline\n",
    "import pandas as pd\n",
    "import matplotlib.pyplot as plt\n",
    "import numpy as np\n",
    "import seaborn as sns\n",
    "sns.set()"
   ]
  },
  {
   "cell_type": "code",
   "execution_count": 10,
   "metadata": {},
   "outputs": [],
   "source": [
    "orders = pd.read_csv('Orders_all_clean.csv', index_col=None, engine='python')"
   ]
  },
  {
   "cell_type": "code",
   "execution_count": 11,
   "metadata": {},
   "outputs": [],
   "source": [
    "# remove the negative price orders either mistake or cancellation and currency symbols\n",
    "orders['Total_Net_Price'] = orders['Total_Net_Price'].replace('[\\$, ]', '', regex=True)  \\\n",
    "                           .replace('[\\€, ]', '', regex=True).replace('[\\�, ]', '', regex=True)  \\\n",
    "                           .replace('[R, ]', '', regex=True)\n",
    "orders = orders[orders.Total_Net_Price != '(26.00)']\n",
    "orders['Registration_Channel'] = orders['Registration_Channel'].fillna(value='Not Available').astype('category')\n",
    "\n",
    "# Attributing sales source by registration type, creating new categorical series.\n",
    "orders.loc[orders.Registration_Type == 'Speaker Guest', 'Sales_Source'] = 'Production'\n",
    "orders.loc[orders.Registration_Type == 'Speaker', 'Sales_Source'] = 'Production'\n",
    "orders.loc[orders.Registration_Type == 'Sponsor Attendee', 'Sales_Source'] = 'Sponsorship'\n",
    "orders.Sales_Source.fillna(value='Marketing', inplace=True)\n",
    "orders['Sales_Source_Cat'] = pd.Series()\n",
    "orders.loc[orders.Registration_Type == 'Speaker Guest', 'Sales_Source_Cat'] = 'Production'\n",
    "orders.loc[orders.Registration_Type == 'Speaker', 'Sales_Source_Cat'] = 'Production'\n",
    "orders.loc[orders.Registration_Type == 'Sponsor Attendee', 'Sales_Source_Cat'] = 'Sponsorship'\n",
    "orders.loc[orders.Registration_Type == 'Sponsor', 'Sales_Source_Cat'] = 'Sponsorship'\n",
    "orders.loc[orders.Sales_Source == 'Marketing', 'Sales_Source_Cat'] = 'Marketing'\n",
    "orders.Sales_Source_Cat.fillna(value='Delegate Sales', inplace=True)"
   ]
  },
  {
   "cell_type": "code",
   "execution_count": 12,
   "metadata": {},
   "outputs": [],
   "source": [
    "# Creating unnique IDs for each person pased on first name, last name and email\n",
    "# Original columns will be removed for data propection\n",
    "orders['id'] = orders.groupby(['Contact_First_Name','Contact_Last_Name', 'Contact_Email_Address']).ngroup()"
   ]
  },
  {
   "cell_type": "code",
   "execution_count": 13,
   "metadata": {},
   "outputs": [],
   "source": [
    "orders = orders.drop(columns=['Contact_First_Name','Contact_Last_Name', 'Contact_Email_Address'])"
   ]
  },
  {
   "cell_type": "code",
   "execution_count": 14,
   "metadata": {},
   "outputs": [
    {
     "data": {
      "text/plain": [
       "Group_Size\n",
       "1     74573\n",
       "2     13834\n",
       "3      6864\n",
       "4      3952\n",
       "5      1930\n",
       "6       996\n",
       "7       476\n",
       "8       472\n",
       "9       234\n",
       "10      260\n",
       "11      132\n",
       "12      144\n",
       "13       91\n",
       "14       14\n",
       "15       30\n",
       "17       17\n",
       "20       20\n",
       "21       42\n",
       "Name: Order_Number, dtype: int64"
      ]
     },
     "execution_count": 14,
     "metadata": {},
     "output_type": "execute_result"
    }
   ],
   "source": [
    "# Creating flags for group registrations - Group size variable indicates number in group of attendees\n",
    "\n",
    "orders = orders[orders.Order_Number.notnull()]\n",
    "orders['Order_Number']=orders['Order_Number'].astype(str)\n",
    "orders['Group_Size'] = \"\"\n",
    "dict = {}\n",
    "\n",
    "for i in orders['Order_Number']:\n",
    "    x = i[:12]\n",
    "    if not x in dict:\n",
    "        dict[x] = 1\n",
    "    else:\n",
    "        dict[x] += 1\n",
    "\n",
    "group_size = []\n",
    "\n",
    "for i in orders['Order_Number']:\n",
    "    x = i[:12]\n",
    "    group_size.append(dict[x])\n",
    "\n",
    "orders['Group_Size'] = group_size\n",
    "\n",
    "orders['Order_Number'].groupby(orders['Group_Size']).agg('count')"
   ]
  },
  {
   "cell_type": "code",
   "execution_count": 15,
   "metadata": {},
   "outputs": [
    {
     "data": {
      "text/plain": [
       "Director      25797\n",
       "Manager       24560\n",
       "Other         24074\n",
       "VP            16218\n",
       "C-Level       12349\n",
       "Consultant     1083\n",
       "Name: job_title, dtype: int64"
      ]
     },
     "execution_count": 15,
     "metadata": {},
     "output_type": "execute_result"
    }
   ],
   "source": [
    "#Creating a list of job title seniority based on full job titles. Appending list to DataFrame\n",
    "\n",
    "orders['Contact_Job_Title'] = orders.Contact_Job_Title.fillna(\"UNKNOWN\")\n",
    "\n",
    "job_title = []\n",
    "c_level = ['Chief','CEO','CMO','CDO','CIO','CPO','CTO','Head']\n",
    "vp = ['VP','Vice President']\n",
    "\n",
    "for i in orders['Contact_Job_Title']:\n",
    "    if any(title in i for title in c_level):\n",
    "        job_title.append(\"C-Level\")\n",
    "    elif any(title in i for title in vp):\n",
    "        job_title.append(\"VP\")\n",
    "    elif \"Director\" in i:\n",
    "        job_title.append(\"Director\")\n",
    "    elif \"Manager\" in i:\n",
    "        job_title.append(\"Manager\")\n",
    "    elif \"Consultant\" in i:\n",
    "        job_title.append(\"Consultant\")\n",
    "    else:\n",
    "        job_title.append(\"Other\")\n",
    "        \n",
    "orders['job_title'] = job_title\n",
    "orders['job_title'].value_counts()"
   ]
  },
  {
   "cell_type": "code",
   "execution_count": 16,
   "metadata": {},
   "outputs": [],
   "source": [
    "orders.to_csv('orders_after_wrangling.csv')"
   ]
  },
  {
   "cell_type": "code",
   "execution_count": null,
   "metadata": {},
   "outputs": [],
   "source": []
  }
 ],
 "metadata": {
  "kernelspec": {
   "display_name": "Python 3",
   "language": "python",
   "name": "python3"
  },
  "language_info": {
   "codemirror_mode": {
    "name": "ipython",
    "version": 3
   },
   "file_extension": ".py",
   "mimetype": "text/x-python",
   "name": "python",
   "nbconvert_exporter": "python",
   "pygments_lexer": "ipython3",
   "version": "3.7.1"
  }
 },
 "nbformat": 4,
 "nbformat_minor": 2
}
